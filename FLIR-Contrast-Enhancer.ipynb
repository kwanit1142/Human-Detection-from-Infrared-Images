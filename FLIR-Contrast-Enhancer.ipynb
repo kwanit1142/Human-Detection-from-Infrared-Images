{
 "cells": [
  {
   "cell_type": "markdown",
   "metadata": {},
   "source": [
    "# Simultaneous Image Loading and Contrast Enhancing"
   ]
  },
  {
   "cell_type": "code",
   "execution_count": 1,
   "metadata": {},
   "outputs": [],
   "source": [
    "import cv2\n",
    "import os\n",
    "import numpy as np\n",
    "\n",
    "def apply_brightness_contrast(input_img, brightness = 0, contrast = 0):\n",
    "    \n",
    "    if brightness != 0:\n",
    "        if brightness >0:\n",
    "            shadow = brightness\n",
    "            highlight = 255\n",
    "        else:\n",
    "            shadow = 0\n",
    "            highlight = 255 + brightness\n",
    "        alpha_b = (highlight - shadow)/255\n",
    "        gamma_b = shadow\n",
    "        buf = cv2.addWeighted(input_img, alpha_b, input_img, 0, gamma_b)\n",
    "    else:\n",
    "        buf = input_img.copy()\n",
    "    if contrast != 0:\n",
    "        f = 131*(contrast + 127)/(127*(131-contrast))\n",
    "        alpha_c = f\n",
    "        gamma_c = 127*(1-f)\n",
    "        buf = cv2.addWeighted(buf, alpha_c, buf, 0, gamma_c)\n",
    "    return buf\n",
    "\n",
    "def load_images_from_folder(folder):\n",
    "    s=128\n",
    "    blist = [-10]                                                                # list of brightness values\n",
    "    clist = [110]                                                                # list of contrast values\n",
    "    b = blist[0]\n",
    "    c = clist[0]\n",
    "    cc=1\n",
    "    for filename in os.listdir(folder):\n",
    "        img = cv2.imread(os.path.join(folder,filename))\n",
    "        out = np.zeros((s*2, s*3, 3), dtype = np.uint8)\n",
    "        out = apply_brightness_contrast(img, b, c)\n",
    "        cv2.imwrite('File-Name'+str(cc)+'Extension-Of-Original-File', out)       # Extension like .jpg, .jpeg, .png\n",
    "        cc+=1\n",
    "\n",
    "load_images_from_folder(r\"Complete-Path-of-Image-Dataset-Directory\")    # Path like C:/Users/cook/Desktop/IR/pos/\n"
   ]
  }
 ],
 "metadata": {
  "kernelspec": {
   "display_name": "Python 3",
   "language": "python",
   "name": "python3"
  },
  "language_info": {
   "codemirror_mode": {
    "name": "ipython",
    "version": 3
   },
   "file_extension": ".py",
   "mimetype": "text/x-python",
   "name": "python",
   "nbconvert_exporter": "python",
   "pygments_lexer": "ipython3",
   "version": "3.7.6"
  }
 },
 "nbformat": 4,
 "nbformat_minor": 4
}
