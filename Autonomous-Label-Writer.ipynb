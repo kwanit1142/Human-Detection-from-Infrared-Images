{
 "cells": [
  {
   "cell_type": "code",
   "execution_count": 2,
   "metadata": {},
   "outputs": [],
   "source": [
    "import os\n",
    "\n",
    "# Program to show various ways to read and \n",
    "# write data in a file. \n",
    "\n",
    "os.chdir(r\"Complete-Path-Of-Renamed-Image-Dataset-Directory\")   # Path like C:/Users/cook/Desktop/IR/\n",
    "file1 = open(\"IR.txt\",\"w\") \n",
    "L = [\"id,label \\n\"]  \n",
    "c=1\n",
    "p=os.listdir()                                                  # List of names of Images\n",
    "for file in p:  \n",
    "    dot_extension= file.index('.') \n",
    "    nam=file[:dot_extension] \n",
    "    if nam.count(\"n\")==1:\n",
    "        L.append(str(os.path.splitext(file)[0])+\",0.0\"+\" \"+\"\\n\")\n",
    "    if nam.count(\"p\")==1:\n",
    "        L.append(str(os.path.splitext(file)[0])+\",1.0\"+\" \"+\"\\n\")\n",
    "    c+=1\n",
    "    \n",
    "# \\n is placed to indicate EOL (End of Line)\n",
    "\n",
    "file1.writelines(L) \n",
    "file1.close()                                                   # to change file access mode \n"
   ]
  }
 ],
 "metadata": {
  "kernelspec": {
   "display_name": "Python 3",
   "language": "python",
   "name": "python3"
  },
  "language_info": {
   "codemirror_mode": {
    "name": "ipython",
    "version": 3
   },
   "file_extension": ".py",
   "mimetype": "text/x-python",
   "name": "python",
   "nbconvert_exporter": "python",
   "pygments_lexer": "ipython3",
   "version": "3.7.6"
  }
 },
 "nbformat": 4,
 "nbformat_minor": 4
}
