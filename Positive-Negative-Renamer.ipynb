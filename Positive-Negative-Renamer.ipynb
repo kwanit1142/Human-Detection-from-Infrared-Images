{
 "cells": [
  {
   "cell_type": "code",
   "execution_count": null,
   "metadata": {},
   "outputs": [],
   "source": [
    "import os\n",
    "\n",
    "# After Dataset is downloaded, keep positive examples and negative examples on different folders\n",
    "\n",
    "os.chdir(r\"Complete-Path-of-Image-Dataset-SubFolder\")          # Path like C:/Users/cook/Desktop/IR/pos/\n",
    "i=1\n",
    "for file in os.listdir():\n",
    "    src=file                                                   # p for positive examples and n for negative examples\n",
    "    dst=str(i)+\"p-or-n\"+\"Extension-of-Original-File\"           # Extension like .jpg, .png, .jpeg                      \n",
    "    os.rename(src,dst)\n",
    "    print(i)\n",                                               
    "    i+=1\n",
    "    "
   ]
  }
 ],
 "metadata": {
  "kernelspec": {
   "display_name": "Python 3",
   "language": "python",
   "name": "python3"
  },
  "language_info": {
   "codemirror_mode": {
    "name": "ipython",
    "version": 3
   },
   "file_extension": ".py",
   "mimetype": "text/x-python",
   "name": "python",
   "nbconvert_exporter": "python",
   "pygments_lexer": "ipython3",
   "version": "3.7.6"
  }
 },
 "nbformat": 4,
 "nbformat_minor": 4
}
